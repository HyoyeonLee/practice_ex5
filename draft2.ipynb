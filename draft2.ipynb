{
 "cells": [
  {
   "cell_type": "markdown",
   "metadata": {},
   "source": [
    "# 2022/06/15 practice for CKKS (SEAL) "
   ]
  },
  {
   "cell_type": "code",
   "execution_count": 15,
   "metadata": {},
   "outputs": [],
   "source": [
    "import numpy as np\n",
    "from random import randint\n",
    "\n",
    "def isPrime(num,count):\n",
    "    if num==1:\n",
    "        return False\n",
    "    if count>=num:\n",
    "        count=num-1\n",
    "    for i in range(0,count):\n",
    "        rnum=randint(1,num-1)\n",
    "        if (pow(rnum,num-1,num))!= 1:\n",
    "            return False\n",
    "    return True\n",
    "\n",
    "def generate_prime(bitlength):\n",
    "    while(True):\n",
    "        p=randint(2**(bitlength-1),2**bitlength)\n",
    "        if isPrime(p,1000):\n",
    "            return p\n",
    "\"\"\"\n",
    "if __name__=='__main__':\n",
    "    print(generate_prime(40))\n",
    "    \"\"\"\n",
    "max_length_coeff_mod = {1024:27, 2048:54, 4096:109, 8192:218,16384:438, 32768:881}"
   ]
  },
  {
   "cell_type": "markdown",
   "metadata": {},
   "source": [
    "## Encryption Parameter Class\n",
    "- scale/ multiplicative depth\n",
    "- poly_modulus_degree\n",
    "- coeff_modulus \n",
    "- prims of coeff_mod = {$P_0, P_1, ..., P_{mul.depth-1}$}\n",
    "- size_list = bit length of each prime number of coeff_mod"
   ]
  },
  {
   "cell_type": "code",
   "execution_count": 16,
   "metadata": {},
   "outputs": [],
   "source": [
    "class EncParameter():\n",
    "    def __init__(self,_poly_mod_deg=8192,_scale=40,_mul_depth=5):\n",
    "        self.poly_mod_deg=__poly_mod_deg\n",
    "        self.scale=_scale\n",
    "        self.mul_depth=_mul_depth\n",
    "        self.coeff_mod=[]\n",
    "        self.size_list=[]\n",
    "    def set_coeff_mod(_size_list=[60,40,40,40,60]):\n",
    "        if(len(_size_list)!=self.mul_depth):\n",
    "            print(\"ERROR: need bit-length info for all %d prime numbers of coeff.mod\")\n",
    "        else:\n",
    "            self.size_list=_size_list\n",
    "            for i in range(0,self.mul_depth):\n",
    "                self.coeff_mod[i]=generate_prime(self.size_list[i])"
   ]
  },
  {
   "cell_type": "markdown",
   "metadata": {},
   "source": [
    "## Context Class\n",
    "- validity of the Enc.params.\n",
    "- print Enc.params info\n",
    "- create a linked list for modulus_switch_chain : **data**=context_data, **node**=parms_id\n",
    "- update noise budget"
   ]
  },
  {
   "cell_type": "code",
   "execution_count": 34,
   "metadata": {},
   "outputs": [],
   "source": [
    "class Context():\n",
    "    def __init__(self,_oEncParam):\n",
    "        self.oEncParam=_oEncParam\n",
    "        self.noise_budget=0\n",
    "    def print_parameters(self):\n",
    "        print(\"scheme = CKKS\")\n",
    "        print(\"scale = %d\"%oEncParam.scale)\n",
    "        print(\"multiplicative depth = %d\"%oEncParam.mul_depth)\n",
    "        print(\"poly_modulus_degree = %d\"%oEncParam.poly_mod_deg)\n",
    "        for i in range(0,oEncParam.mul_depth):\n",
    "            print(\"coeff_mod[%d] =%.0f\"%(i,oEncParam.coeff_mod[i]))\n",
    "        print(\"coeff_mod bitlength : \", oEncParam.size_list,\\\n",
    "              \" coeff_mod's length=%d [bit]\"%sum(oEncParam.size_list))\n",
    "    def isValid(self):\n",
    "        #if(!isPowerOf2(oEncParam.poly_mod_deg)):return False\n",
    "        if(oEncParam.scale>oEncParam.size_list[-1]): return False\n",
    "        if(oEncParam.size_list[-1]<max(oEncParam.size_list)):return False\n",
    "        if(sum(oEncParam.size_list)>max_length_coeff_mod[oEncParam.poly_mod_deg]):return False\n",
    "    def create_chain(self):\n",
    "        \"\"\"\n",
    "        make chains ch_idx=mul_depth-1(original params)~0(primes of coeff.mod: only P0 left)\n",
    "        context_data = hash(coeff_mod)      \n",
    "        \"\"\"  \n",
    "    def update_noise_budget(self,_noise_budget):\n",
    "        self.noise_budget = _noise_budget"
   ]
  },
  {
   "cell_type": "markdown",
   "metadata": {},
   "source": [
    "## Create Keys\n",
    "- secret key auto : only once\n",
    "- public key : multiple\n",
    "- relinsearize key :multiple\n",
    "- Galgois key???"
   ]
  },
  {
   "cell_type": "code",
   "execution_count": 32,
   "metadata": {},
   "outputs": [],
   "source": [
    "class Keys():\n",
    "    def __init__(self):\n",
    "        self.secret_key=0\n",
    "        self.generate_secret_key()\n",
    "    def generate_secret_key(self):\n",
    "        \"\"\"\n",
    "        random process\n",
    "        key generating algorithm\n",
    "        eventually self.secret_key=XXX\n",
    "        \"\"\"\n",
    "    def generate_public_key(self):\n",
    "        \"\"\"\n",
    "        ...\n",
    "        return publick_key\n",
    "        \"\"\"\n",
    "    def generate_relinearize_key(self):\n",
    "        \"\"\"\n",
    "        ...\n",
    "        return relinearize_key\n",
    "        \"\"\"\n",
    "    def generate_galgois_key(self):\n",
    "        \"\"\"\n",
    "        ...\n",
    "        return galgois_key\n",
    "        \"\"\"  "
   ]
  },
  {
   "cell_type": "markdown",
   "metadata": {},
   "source": [
    "## Encryptor\n",
    "- encrypt :(encoded message)Plaintext $\\rightarrow$ Ciphertext"
   ]
  },
  {
   "cell_type": "code",
   "execution_count": 33,
   "metadata": {},
   "outputs": [],
   "source": [
    "class Encryptor():\n",
    "    def __init__(self,_oContext,_public_key):\n",
    "        self.oContext=_oContext\n",
    "        self.public_key=_public_key\n",
    "        self.message=0\n",
    "        self.plaintext=''\n",
    "        self.ciphertext=''\n",
    "        self.noise_budget_initial=150\n",
    "    def encrypt_message(self,_message):\n",
    "        self.message=_message\n",
    "        self.plaintext= str(self.message)  \n",
    "        \"\"\"\n",
    "        encrypting algorithm\n",
    "        self.ciphertext= XXX        \n",
    "        \"\"\"\n",
    "        set.oContext.update_noise_budget(self.noise_budget_initial)"
   ]
  },
  {
   "cell_type": "markdown",
   "metadata": {},
   "source": [
    "## Decryptor\n",
    "- decrypt : Ciphertext $\\rightarrow$ Plaintext\n",
    "- invariant_noise_budget : err when it hits zero"
   ]
  },
  {
   "cell_type": "code",
   "execution_count": null,
   "metadata": {},
   "outputs": [],
   "source": [
    "class Decryptor():\n",
    "    def __init__(self,_oContext,_secret_key):\n",
    "        self.oContext = _oContext\n",
    "        self.secret_key=_secret_key\n",
    "        self.ciphertext=''\n",
    "        self.plaintext=''\n",
    "        self.message=0\n",
    "    def decrypt_ciphertext(self,_ciphertext):\n",
    "        self.ciphertext=_ciphertext\n",
    "        \"\"\"\n",
    "        decrypting algorithm\n",
    "        self.plaintext = XXX        \n",
    "        \"\"\"\n",
    "        self.message = float(self.plaintext)\n",
    "    def invariant_noise_budget(self):\n",
    "        print(\"noise budget = %d[bit]\"%(oContent.noise_budget))"
   ]
  },
  {
   "cell_type": "markdown",
   "metadata": {},
   "source": [
    "## Evaluator\n",
    "- add : no change in budget\n",
    "- multiply : update noise_budget(-30), double the scale\n",
    "- relinearize :\n",
    "- rescale : \n",
    "- mod_switch_to :"
   ]
  }
 ],
 "metadata": {
  "kernelspec": {
   "display_name": "Python 3",
   "language": "python",
   "name": "python3"
  },
  "language_info": {
   "codemirror_mode": {
    "name": "ipython",
    "version": 3
   },
   "file_extension": ".py",
   "mimetype": "text/x-python",
   "name": "python",
   "nbconvert_exporter": "python",
   "pygments_lexer": "ipython3",
   "version": "3.8.2"
  }
 },
 "nbformat": 4,
 "nbformat_minor": 4
}
